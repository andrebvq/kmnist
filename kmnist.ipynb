{
 "cells": [
  {
   "cell_type": "code",
   "execution_count": 1,
   "metadata": {},
   "outputs": [],
   "source": [
    "import matplotlib.pyplot as plt\n",
    "import pandas as pd\n",
    "import random\n",
    "from fastai import *\n",
    "from fastai.vision import *"
   ]
  },
  {
   "cell_type": "code",
   "execution_count": 2,
   "metadata": {},
   "outputs": [],
   "source": [
    "# ref: https://github.com/rois-codh/kmnist\n",
    "# Kuzushiji-MNIST contains 70,000 28x28 grayscale images \n",
    "# spanning 10 classes (one from each column of hiragana), \n",
    "# and is perfectly balanced like the original MNIST dataset (6k/1k train/test for each class).\n",
    "\n",
    "# raw data, urls: x_train, x_test, y_train, y_test\n",
    "xtrain_url = 'http://codh.rois.ac.jp/kmnist/dataset/kmnist/kmnist-train-imgs.npz'\n",
    "xtest_url = 'http://codh.rois.ac.jp/kmnist/dataset/kmnist/kmnist-test-imgs.npz'\n",
    "ytrain_url = 'http://codh.rois.ac.jp/kmnist/dataset/kmnist/kmnist-train-labels.npz'\n",
    "ytest_url = 'http://codh.rois.ac.jp/kmnist/dataset/kmnist/kmnist-test-labels.npz'\n",
    "# mapping from class index to japanese characters\n",
    "classes = pd.read_csv('http://codh.rois.ac.jp/kmnist/dataset/kmnist/kmnist_classmap.csv')"
   ]
  },
  {
   "cell_type": "code",
   "execution_count": 1,
   "metadata": {},
   "outputs": [
    {
     "ename": "NameError",
     "evalue": "name 'classes' is not defined",
     "output_type": "error",
     "traceback": [
      "\u001B[0;31m---------------------------------------------------------------------------\u001B[0m",
      "\u001B[0;31mNameError\u001B[0m                                 Traceback (most recent call last)",
      "\u001B[0;32m<ipython-input-1-09da07ead705>\u001B[0m in \u001B[0;36m<module>\u001B[0;34m\u001B[0m\n\u001B[0;32m----> 1\u001B[0;31m \u001B[0mclasses\u001B[0m\u001B[0;34m\u001B[0m\u001B[0;34m\u001B[0m\u001B[0m\n\u001B[0m\u001B[1;32m      2\u001B[0m \u001B[0;34m\u001B[0m\u001B[0m\n",
      "\u001B[0;31mNameError\u001B[0m: name 'classes' is not defined"
     ]
    }
   ],
   "source": [
    "classes"
   ]
  },
  {
   "cell_type": "code",
   "execution_count": 4,
   "metadata": {},
   "outputs": [],
   "source": [
    "def download_kmnist(url):\n",
    "    print('Processing {}...'.format(url.split('/')[-1]))\n",
    "    send_req = requests.get(url, stream = True)\n",
    "    load_raw = np.load(BytesIO(send_req.raw.read()))\n",
    "    load_data = torch.from_numpy(load_raw['arr_0'])\n",
    "    print('Done.')\n",
    "    return load_data\n",
    "\n",
    "def process_imgs(array):\n",
    "    array = array.type(torch.float32)\n",
    "    mean, std = array.mean(), array.std()\n",
    "    array = (array-mean) / std\n",
    "    array = array.reshape(-1, 1, 28, 28)\n",
    "    # kmnist images have single channel\n",
    "    array = np.repeat(array, 3, axis=1)\n",
    "    return array\n",
    "\n",
    "def process_lbls(array):\n",
    "    return array.type(torch.LongTensor)\n",
    "    \n",
    "def show_img(images_tensor, labels_tensor, class_map, channel, random_index=True):\n",
    "    \"\"\"\n",
    "    images_tensor: kmnist post-processed images tensor\n",
    "    labels_tensor: label tensor\n",
    "    class_map: label/hiragana mapping\n",
    "    channel: int 0,1,2 (rgb)\n",
    "    random_index: if false: index=0\n",
    "    \"\"\"\n",
    "    \n",
    "    if len(images_tensor) != len(labels_tensor):\n",
    "        raise Exception('Image/Labels tensors mismatch')\n",
    "        \n",
    "    if channel < 0 or channel > 2:\n",
    "        raise Exception('Channel must be 0, 1 or 2')\n",
    "    \n",
    "    if random_index:\n",
    "        index = random.randint(0, len(images_tensor)-1)\n",
    "        img = images_tensor[index][channel]\n",
    "    else:\n",
    "        index = 0\n",
    "        img = images_tensor[index][channel]\n",
    "    \n",
    "    print('Label: {}'.format(labels_tensor[index]), \\\n",
    "          ' corresponds to character: {}'.format(class_map.loc[int(labels_tensor[index])]['char']))\n",
    "    \n",
    "    plt.figure(figsize=(2,2))\n",
    "    plt.imshow(img, cmap = 'RdPu')\n",
    "    plt.show()\n",
    "    return\n",
    "\n",
    "class Zip(Dataset):\n",
    "    def __init__(self, x, y):\n",
    "        self.x, self.y = x, y\n",
    "        # check on c\n",
    "        self.c = len(np.unique(y))\n",
    "    \n",
    "    def __len__(self):\n",
    "        return len(self.x)\n",
    "    \n",
    "    def __getitem__(self, i):\n",
    "        return self.x[i], self.y[i]"
   ]
  },
  {
   "cell_type": "code",
   "execution_count": 5,
   "metadata": {},
   "outputs": [
    {
     "name": "stdout",
     "output_type": "stream",
     "text": [
      "Processing kmnist-train-imgs.npz...\n",
      "Done.\n",
      "Processing kmnist-test-imgs.npz...\n",
      "Done.\n",
      "Processing kmnist-train-labels.npz...\n",
      "Done.\n",
      "Processing kmnist-test-labels.npz...\n",
      "Done.\n"
     ]
    }
   ],
   "source": [
    "x_train = process_imgs(download_kmnist(xtrain_url))\n",
    "x_test = process_imgs(download_kmnist(xtest_url))\n",
    "y_train = process_lbls(download_kmnist(ytrain_url))\n",
    "y_test = process_lbls(download_kmnist(ytest_url))"
   ]
  },
  {
   "cell_type": "code",
   "execution_count": 6,
   "metadata": {},
   "outputs": [],
   "source": [
    "train_data = Zip(x_train, y_train)\n",
    "valid_data = Zip(x_test, y_test)\n",
    "data = DataBunch.create(train_data, valid_data, bs=64)"
   ]
  },
  {
   "cell_type": "code",
   "execution_count": 7,
   "metadata": {},
   "outputs": [
    {
     "name": "stdout",
     "output_type": "stream",
     "text": [
      "bins:  tensor([6000, 6000, 6000, 6000, 6000, 6000, 6000, 6000, 6000, 6000])\n",
      "sample image:\n",
      "Label: 8  corresponds to character: れ\n"
     ]
    },
    {
     "data": {
      "image/png": "[encoded data removed]",
      "text/plain": [
       "<Figure size 144x144 with 1 Axes>"
      ]
     },
     "metadata": {
      "needs_background": "light"
     },
     "output_type": "display_data"
    }
   ],
   "source": [
    "# classes in kmnist are balanced\n",
    "print('bins: ', y_train.bincount())\n",
    "print('sample image:')\n",
    "show_img(x_train, y_train, classes, channel=1, random_index=False)"
   ]
  },
  {
   "cell_type": "code",
   "execution_count": 8,
   "metadata": {},
   "outputs": [],
   "source": [
    "# setup model\n",
    "# check crossE\n",
    "learn = cnn_learner(data, models.resnet34, loss_func=CrossEntropyFlat(), metrics=accuracy)"
   ]
  },
  {
   "cell_type": "code",
   "execution_count": 9,
   "metadata": {},
   "outputs": [
    {
     "data": {
      "text/html": [
       "<table border=\"1\" class=\"dataframe\">\n",
       "  <thead>\n",
       "    <tr style=\"text-align: left;\">\n",
       "      <th>epoch</th>\n",
       "      <th>train_loss</th>\n",
       "      <th>valid_loss</th>\n",
       "      <th>accuracy</th>\n",
       "      <th>time</th>\n",
       "    </tr>\n",
       "  </thead>\n",
       "  <tbody>\n",
       "    <tr>\n",
       "      <td>0</td>\n",
       "      <td>1.234233</td>\n",
       "      <td>1.389896</td>\n",
       "      <td>0.572500</td>\n",
       "      <td>00:30</td>\n",
       "    </tr>\n",
       "    <tr>\n",
       "      <td>1</td>\n",
       "      <td>0.666453</td>\n",
       "      <td>0.935814</td>\n",
       "      <td>0.709600</td>\n",
       "      <td>00:29</td>\n",
       "    </tr>\n",
       "    <tr>\n",
       "      <td>2</td>\n",
       "      <td>0.406480</td>\n",
       "      <td>0.603698</td>\n",
       "      <td>0.813000</td>\n",
       "      <td>00:30</td>\n",
       "    </tr>\n",
       "    <tr>\n",
       "      <td>3</td>\n",
       "      <td>0.262995</td>\n",
       "      <td>0.422262</td>\n",
       "      <td>0.875200</td>\n",
       "      <td>00:31</td>\n",
       "    </tr>\n",
       "    <tr>\n",
       "      <td>4</td>\n",
       "      <td>0.191652</td>\n",
       "      <td>0.356016</td>\n",
       "      <td>0.890600</td>\n",
       "      <td>00:30</td>\n",
       "    </tr>\n",
       "    <tr>\n",
       "      <td>5</td>\n",
       "      <td>0.171702</td>\n",
       "      <td>0.314882</td>\n",
       "      <td>0.904300</td>\n",
       "      <td>00:31</td>\n",
       "    </tr>\n",
       "    <tr>\n",
       "      <td>6</td>\n",
       "      <td>0.149604</td>\n",
       "      <td>0.277875</td>\n",
       "      <td>0.914300</td>\n",
       "      <td>00:32</td>\n",
       "    </tr>\n",
       "    <tr>\n",
       "      <td>7</td>\n",
       "      <td>0.121155</td>\n",
       "      <td>0.267344</td>\n",
       "      <td>0.920800</td>\n",
       "      <td>00:32</td>\n",
       "    </tr>\n",
       "    <tr>\n",
       "      <td>8</td>\n",
       "      <td>0.112515</td>\n",
       "      <td>0.262326</td>\n",
       "      <td>0.922200</td>\n",
       "      <td>00:32</td>\n",
       "    </tr>\n",
       "    <tr>\n",
       "      <td>9</td>\n",
       "      <td>0.103997</td>\n",
       "      <td>0.261937</td>\n",
       "      <td>0.921900</td>\n",
       "      <td>00:32</td>\n",
       "    </tr>\n",
       "  </tbody>\n",
       "</table>"
      ],
      "text/plain": [
       "<IPython.core.display.HTML object>"
      ]
     },
     "metadata": {},
     "output_type": "display_data"
    }
   ],
   "source": [
    "learn.fit_one_cycle(10)"
   ]
  },
  {
   "cell_type": "code",
   "execution_count": 10,
   "metadata": {},
   "outputs": [
    {
     "data": {
      "text/html": [
       "\n",
       "    <div>\n",
       "        <style>\n",
       "            /* Turns off some styling */\n",
       "            progress {\n",
       "                /* gets rid of default border in Firefox and Opera. */\n",
       "                border: none;\n",
       "                /* Needs to be in here for Safari polyfill so background images work as expected. */\n",
       "                background-size: auto;\n",
       "            }\n",
       "            .progress-bar-interrupted, .progress-bar-interrupted::-webkit-progress-bar {\n",
       "                background: #F44336;\n",
       "            }\n",
       "        </style>\n",
       "      <progress value='0' class='' max='1', style='width:300px; height:20px; vertical-align: middle;'></progress>\n",
       "      0.00% [0/1 00:00<00:00]\n",
       "    </div>\n",
       "    \n",
       "<table border=\"1\" class=\"dataframe\">\n",
       "  <thead>\n",
       "    <tr style=\"text-align: left;\">\n",
       "      <th>epoch</th>\n",
       "      <th>train_loss</th>\n",
       "      <th>valid_loss</th>\n",
       "      <th>accuracy</th>\n",
       "      <th>time</th>\n",
       "    </tr>\n",
       "  </thead>\n",
       "  <tbody>\n",
       "  </tbody>\n",
       "</table><p>\n",
       "\n",
       "    <div>\n",
       "        <style>\n",
       "            /* Turns off some styling */\n",
       "            progress {\n",
       "                /* gets rid of default border in Firefox and Opera. */\n",
       "                border: none;\n",
       "                /* Needs to be in here for Safari polyfill so background images work as expected. */\n",
       "                background-size: auto;\n",
       "            }\n",
       "            .progress-bar-interrupted, .progress-bar-interrupted::-webkit-progress-bar {\n",
       "                background: #F44336;\n",
       "            }\n",
       "        </style>\n",
       "      <progress value='71' class='' max='937', style='width:300px; height:20px; vertical-align: middle;'></progress>\n",
       "      7.58% [71/937 00:02<00:31 0.1179]\n",
       "    </div>\n",
       "    "
      ],
      "text/plain": [
       "<IPython.core.display.HTML object>"
      ]
     },
     "metadata": {},
     "output_type": "display_data"
    },
    {
     "name": "stdout",
     "output_type": "stream",
     "text": [
      "LR Finder is complete, type {learner_name}.recorder.plot() to see the graph.\n"
     ]
    },
    {
     "data": {
      "image/png": "[encoded data removed]",
      "text/plain": [
       "<Figure size 432x288 with 1 Axes>"
      ]
     },
     "metadata": {
      "needs_background": "light"
     },
     "output_type": "display_data"
    }
   ],
   "source": [
    "learn.lr_find()\n",
    "learn.recorder.plot()"
   ]
  },
  {
   "cell_type": "code",
   "execution_count": 12,
   "metadata": {},
   "outputs": [
    {
     "data": {
      "text/html": [
       "<table border=\"1\" class=\"dataframe\">\n",
       "  <thead>\n",
       "    <tr style=\"text-align: left;\">\n",
       "      <th>epoch</th>\n",
       "      <th>train_loss</th>\n",
       "      <th>valid_loss</th>\n",
       "      <th>accuracy</th>\n",
       "      <th>time</th>\n",
       "    </tr>\n",
       "  </thead>\n",
       "  <tbody>\n",
       "    <tr>\n",
       "      <td>0</td>\n",
       "      <td>0.091790</td>\n",
       "      <td>0.155305</td>\n",
       "      <td>0.953500</td>\n",
       "      <td>00:51</td>\n",
       "    </tr>\n",
       "    <tr>\n",
       "      <td>1</td>\n",
       "      <td>0.036802</td>\n",
       "      <td>0.103513</td>\n",
       "      <td>0.973300</td>\n",
       "      <td>00:52</td>\n",
       "    </tr>\n",
       "  </tbody>\n",
       "</table>"
      ],
      "text/plain": [
       "<IPython.core.display.HTML object>"
      ]
     },
     "metadata": {},
     "output_type": "display_data"
    }
   ],
   "source": [
    "learn.unfreeze()\n",
    "learn.fit_one_cycle(2, max_lr=1e-4)"
   ]
  }
 ],
 "metadata": {
  "kernelspec": {
   "display_name": "Python 3",
   "language": "python",
   "name": "python3"
  },
  "language_info": {
   "codemirror_mode": {
    "name": "ipython",
    "version": 3
   },
   "file_extension": ".py",
   "mimetype": "text/x-python",
   "name": "python",
   "nbconvert_exporter": "python",
   "pygments_lexer": "ipython3",
   "version": "3.7.6"
  }
 },
 "nbformat": 4,
 "nbformat_minor": 4
}